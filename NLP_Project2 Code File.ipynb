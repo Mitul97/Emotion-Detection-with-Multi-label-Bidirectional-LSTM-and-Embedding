{
 "cells": [
  {
   "cell_type": "code",
   "execution_count": 1,
   "metadata": {},
   "outputs": [],
   "source": [
    "import pandas as pd\n",
    "import numpy as np\n",
    "import sys\n",
    "from sklearn.model_selection import train_test_split\n",
    "# !pip install --user keras\n",
    "# !pip install --user tensorflow\n",
    "from keras.preprocessing.text import Tokenizer\n",
    "from keras.preprocessing.sequence import pad_sequences\n",
    "\n",
    "from keras.models import Sequential\n",
    "from keras.layers import Dense,Flatten,LSTM,Dropout, Bidirectional\n",
    "from keras.layers.embeddings import Embedding\n",
    "from keras.preprocessing import sequence\n",
    "from keras.models import model_from_json\n",
    "from keras.models import load_model\n",
    "\n",
    "pd.set_option('display.max_colwidth', 200)"
   ]
  },
  {
   "cell_type": "code",
   "execution_count": 2,
   "metadata": {},
   "outputs": [],
   "source": [
    "url1=\"https://storage.googleapis.com/gresearch/goemotions/data/full_dataset/goemotions_1.csv\"\n",
    "url2=\"https://storage.googleapis.com/gresearch/goemotions/data/full_dataset/goemotions_2.csv\"\n",
    "url3=\"https://storage.googleapis.com/gresearch/goemotions/data/full_dataset/goemotions_3.csv\"\n",
    "\n",
    "df1=pd.read_csv(url1)\n",
    "df2=pd.read_csv(url2)\n",
    "df3=pd.read_csv(url3)\n",
    "merged = [df1, df2, df3]\n",
    "\n",
    "merged = pd.concat(merged)"
   ]
  },
  {
   "cell_type": "code",
   "execution_count": 3,
   "metadata": {},
   "outputs": [],
   "source": [
    "merged = merged.sample(frac =0.2)"
   ]
  },
  {
   "cell_type": "code",
   "execution_count": 4,
   "metadata": {},
   "outputs": [],
   "source": [
    "#creating a custom short stop words list by glancing at the corpus\n",
    "stop = ['I','a','an','as','at', 'be', 'by', 'com','for', 'in', 'is', 'it','of', 'on', 'or',\\\n",
    "        'that','to','the','www','[name]','[religion]']\n",
    "\n",
    "#removing stopwords and converting to lower case\n",
    "merged['text'] = merged['text'].apply(lambda x: ' '.join([word.lower() for word in x.split() if word not in (stop)]))\n"
   ]
  },
  {
   "cell_type": "code",
   "execution_count": 5,
   "metadata": {},
   "outputs": [],
   "source": [
    "X = merged['text'].values\n",
    "X= X.astype(str)\n",
    "y = merged.iloc[:,9:].values\n",
    "\n",
    "X_train, X_test, y_train, y_test = train_test_split(X,y,test_size=0.3,random_state=42)"
   ]
  },
  {
   "cell_type": "code",
   "execution_count": 6,
   "metadata": {},
   "outputs": [],
   "source": [
    "tokenizer = Tokenizer() #make a tokenizer\n",
    "tokenizer.fit_on_texts(X_train) #fit on text\n",
    "\n",
    "\n",
    "num_words=7000\n",
    "tokenizer.word_index = {e:i for e,i in tokenizer.word_index.items() if i <= num_words} # <= because tokenizer is 1 indexed\n",
    "tokenizer.word_index[tokenizer.oov_token] = num_words + 1\n",
    "\n",
    "X_train = tokenizer.texts_to_sequences(X_train)\n",
    "X_test = tokenizer.texts_to_sequences(X_test)\n",
    "vocab_size = len(tokenizer.word_index) + 1  # Adding 1 because of reserved 0 index\n",
    "\n",
    "maxlen = 20\n",
    "X_train = pad_sequences(X_train, padding='post', maxlen=maxlen)\n",
    "X_test = pad_sequences(X_test, padding='post', maxlen=maxlen)"
   ]
  },
  {
   "cell_type": "code",
   "execution_count": 7,
   "metadata": {},
   "outputs": [
    {
     "name": "stdout",
     "output_type": "stream",
     "text": [
      "embedding accuracy: 0.9504427306483861\n"
     ]
    }
   ],
   "source": [
    "def create_embedding_matrix(filepath, word_index, embedding_dim):\n",
    "    vocab_size = len(word_index)+1\n",
    "    embedding_matrix = np.zeros((vocab_size, embedding_dim))\n",
    "\n",
    "    with open(filepath,encoding='utf-8') as f:\n",
    "        for line in f:\n",
    "            word, *vector = line.split()\n",
    "            if word in word_index:\n",
    "                idx = word_index[word]\n",
    "                embedding_matrix[idx] = np.array(vector, dtype=np.float32)[:embedding_dim]\n",
    "\n",
    "    return embedding_matrix\n",
    "    \n",
    "embedding_dim = 300\n",
    "embedding_matrix = create_embedding_matrix('glove.6B.300d.txt', tokenizer.word_index, embedding_dim)\n",
    "\n",
    "nonzero_elements = np.count_nonzero(np.count_nonzero(embedding_matrix, axis=1))\n",
    "embedding_accuracy = nonzero_elements / vocab_size\n",
    "print('embedding accuracy: ' + str(embedding_accuracy))"
   ]
  },
  {
   "cell_type": "markdown",
   "metadata": {},
   "source": [
    "### Model Building"
   ]
  },
  {
   "cell_type": "code",
   "execution_count": 8,
   "metadata": {},
   "outputs": [
    {
     "name": "stdout",
     "output_type": "stream",
     "text": [
      "Model: \"sequential\"\n",
      "_________________________________________________________________\n",
      "Layer (type)                 Output Shape              Param #   \n",
      "=================================================================\n",
      "embedding (Embedding)        (None, 20, 300)           2100600   \n",
      "_________________________________________________________________\n",
      "bidirectional (Bidirectional (None, 512)               1140736   \n",
      "_________________________________________________________________\n",
      "dense (Dense)                (None, 128)               65664     \n",
      "_________________________________________________________________\n",
      "dropout (Dropout)            (None, 128)               0         \n",
      "_________________________________________________________________\n",
      "dense_1 (Dense)              (None, 28)                3612      \n",
      "=================================================================\n",
      "Total params: 3,310,612\n",
      "Trainable params: 3,310,612\n",
      "Non-trainable params: 0\n",
      "_________________________________________________________________\n"
     ]
    }
   ],
   "source": [
    "# create the model\n",
    "model = Sequential()\n",
    "model.add(Embedding(vocab_size, embedding_dim, weights=[embedding_matrix], input_length=maxlen, trainable=True))\n",
    "    \n",
    "model.add(Bidirectional(LSTM(256, dropout=0.2, recurrent_dropout=0.2)))\n",
    "model.add(Dense(128, activation='relu'))\n",
    "model.add(Dropout(0.50))\n",
    "model.add(Dense(28, activation='softmax'))\n",
    "# Adam Optimiser\n",
    "model.compile(loss='binary_crossentropy',optimizer='adam', metrics=['accuracy'])\n",
    "model.summary()"
   ]
  },
  {
   "cell_type": "code",
   "execution_count": 34,
   "metadata": {
    "scrolled": true
   },
   "outputs": [
    {
     "name": "stdout",
     "output_type": "stream",
     "text": [
      "Epoch 1/15\n",
      "296/296 [==============================] - 266s 899ms/step - loss: 0.1460 - accuracy: 0.3184 - val_loss: 0.1330 - val_accuracy: 0.3623\n",
      "Epoch 2/15\n",
      "296/296 [==============================] - 278s 941ms/step - loss: 0.1310 - accuracy: 0.3756 - val_loss: 0.1281 - val_accuracy: 0.3836\n",
      "Epoch 3/15\n",
      "296/296 [==============================] - 264s 893ms/step - loss: 0.1244 - accuracy: 0.3907 - val_loss: 0.1263 - val_accuracy: 0.3895\n",
      "Epoch 4/15\n",
      "296/296 [==============================] - 229s 773ms/step - loss: 0.1182 - accuracy: 0.4162 - val_loss: 0.1259 - val_accuracy: 0.3886\n",
      "Epoch 5/15\n",
      "296/296 [==============================] - 189s 637ms/step - loss: 0.1131 - accuracy: 0.4379 - val_loss: 0.1267 - val_accuracy: 0.3856\n",
      "Epoch 6/15\n",
      "296/296 [==============================] - 187s 633ms/step - loss: 0.1079 - accuracy: 0.4559 - val_loss: 0.1307 - val_accuracy: 0.3842\n",
      "Epoch 7/15\n",
      "296/296 [==============================] - 187s 632ms/step - loss: 0.1028 - accuracy: 0.4812 - val_loss: 0.1345 - val_accuracy: 0.3726\n",
      "Epoch 8/15\n",
      "296/296 [==============================] - 187s 631ms/step - loss: 0.0979 - accuracy: 0.5016 - val_loss: 0.1366 - val_accuracy: 0.3645\n",
      "Epoch 9/15\n",
      "296/296 [==============================] - 188s 635ms/step - loss: 0.0932 - accuracy: 0.5227 - val_loss: 0.1391 - val_accuracy: 0.3566\n",
      "Epoch 10/15\n",
      "296/296 [==============================] - 187s 632ms/step - loss: 0.0891 - accuracy: 0.5431 - val_loss: 0.1508 - val_accuracy: 0.3548\n",
      "Epoch 11/15\n",
      "296/296 [==============================] - 205s 692ms/step - loss: 0.0847 - accuracy: 0.5665 - val_loss: 0.1557 - val_accuracy: 0.3560\n",
      "Epoch 12/15\n",
      "296/296 [==============================] - 203s 684ms/step - loss: 0.0807 - accuracy: 0.5855 - val_loss: 0.1616 - val_accuracy: 0.3425\n",
      "Epoch 13/15\n",
      "296/296 [==============================] - 209s 706ms/step - loss: 0.0774 - accuracy: 0.5996 - val_loss: 0.1707 - val_accuracy: 0.3334\n",
      "Epoch 14/15\n",
      "296/296 [==============================] - 221s 747ms/step - loss: 0.0744 - accuracy: 0.6131 - val_loss: 0.1763 - val_accuracy: 0.3444\n",
      "Epoch 15/15\n",
      "296/296 [==============================] - 212s 718ms/step - loss: 0.0712 - accuracy: 0.6295 - val_loss: 0.1833 - val_accuracy: 0.3408\n"
     ]
    }
   ],
   "source": [
    "result = model.fit(X_train, y_train, epochs=15, verbose=True, validation_data=(X_test, y_test), batch_size=100)"
   ]
  },
  {
   "cell_type": "code",
   "execution_count": 9,
   "metadata": {},
   "outputs": [],
   "source": [
    "#from the above results number of epochs = 7\n",
    "result = model.fit(X_train, y_train, epochs=7, verbose=False, validation_data=(X_test, y_test), batch_size=100)"
   ]
  },
  {
   "cell_type": "code",
   "execution_count": 10,
   "metadata": {},
   "outputs": [
    {
     "name": "stdout",
     "output_type": "stream",
     "text": [
      "Threshold: 0.1000, Precision: 0.2816, Recall: 0.5573, F1-measure: 0.3742\n",
      "Threshold: 0.2000, Precision: 0.3794, Recall: 0.4034, F1-measure: 0.3910\n",
      "Threshold: 0.2500, Precision: 0.4196, Recall: 0.3533, F1-measure: 0.3836\n",
      "Threshold: 0.3000, Precision: 0.4521, Recall: 0.3123, F1-measure: 0.3694\n",
      "Threshold: 0.4000, Precision: 0.5081, Recall: 0.2476, F1-measure: 0.3329\n",
      "Threshold: 0.5000, Precision: 0.5469, Recall: 0.1907, F1-measure: 0.2828\n",
      "Threshold: 0.6000, Precision: 0.5794, Recall: 0.1458, F1-measure: 0.2329\n",
      "Threshold: 0.7000, Precision: 0.6127, Recall: 0.1077, F1-measure: 0.1831\n",
      "Threshold: 0.8000, Precision: 0.6413, Recall: 0.0703, F1-measure: 0.1268\n",
      "Threshold: 0.9000, Precision: 0.6518, Recall: 0.0345, F1-measure: 0.0655\n"
     ]
    }
   ],
   "source": [
    "from sklearn.metrics import precision_score\n",
    "from sklearn.metrics import recall_score\n",
    "from sklearn.metrics import f1_score\n",
    "from sklearn.metrics import classification_report\n",
    "\n",
    "#making predictions\n",
    "y_pred = model.predict(X_test)\n",
    "\n",
    "thresholds=[0.1,0.2,0.25,0.3,0.4,0.5,0.6,0.7,0.8,0.9]\n",
    "for val in thresholds:\n",
    "    pred=y_pred.copy()\n",
    "  \n",
    "    pred[pred>=val]=1\n",
    "    pred[pred<val]=0\n",
    "  \n",
    "    precision = precision_score(y_test, pred, average='micro')\n",
    "    recall = recall_score(y_test, pred, average='micro')\n",
    "    f1 = f1_score(y_test, pred, average='micro')\n",
    "   \n",
    "    print(\"Threshold: {:.4f}, Precision: {:.4f}, Recall: {:.4f}, F1-measure: {:.4f}\".format(val, precision, recall, f1))"
   ]
  },
  {
   "cell_type": "markdown",
   "metadata": {},
   "source": [
    "Choosing threshold as 0.2 from the above results\n"
   ]
  },
  {
   "cell_type": "code",
   "execution_count": 12,
   "metadata": {},
   "outputs": [
    {
     "name": "stdout",
     "output_type": "stream",
     "text": [
      "Emotion: admiration, Precision: 0.4803, Recall: 0.5179, F1-measure: 0.4984\n",
      "Emotion: amusement, Precision: 0.5285, Recall: 0.6007, F1-measure: 0.5623\n",
      "Emotion: anger, Precision: 0.2870, Recall: 0.3258, F1-measure: 0.3052\n",
      "Emotion: annoyance, Precision: 0.1973, Recall: 0.2544, F1-measure: 0.2222\n",
      "Emotion: approval, Precision: 0.2532, Recall: 0.1853, F1-measure: 0.2140\n",
      "Emotion: caring, Precision: 0.2542, Recall: 0.1347, F1-measure: 0.1761\n",
      "Emotion: confusion, Precision: 0.2316, Recall: 0.2919, F1-measure: 0.2583\n",
      "Emotion: curiosity, Precision: 0.2744, Recall: 0.3688, F1-measure: 0.3147\n",
      "Emotion: desire, Precision: 0.4242, Recall: 0.1944, F1-measure: 0.2667\n",
      "Emotion: disappointment, Precision: 0.2599, Recall: 0.1209, F1-measure: 0.1650\n",
      "Emotion: disapproval, Precision: 0.2231, Recall: 0.1877, F1-measure: 0.2039\n",
      "Emotion: disgust, Precision: 0.4227, Recall: 0.1306, F1-measure: 0.1995\n",
      "Emotion: embarrassment, Precision: 0.5000, Recall: 0.0719, F1-measure: 0.1257\n",
      "Emotion: excitement, Precision: 0.2605, Recall: 0.1569, F1-measure: 0.1958\n",
      "Emotion: fear, Precision: 0.4828, Recall: 0.2211, F1-measure: 0.3032\n",
      "Emotion: gratitude, Precision: 0.7909, Recall: 0.7886, F1-measure: 0.7898\n",
      "Emotion: grief, Precision: 0.0000, Recall: 0.0000, F1-measure: 0.0000\n",
      "Emotion: joy, Precision: 0.3720, Recall: 0.3285, F1-measure: 0.3489\n",
      "Emotion: love, Precision: 0.5640, Recall: 0.7146, F1-measure: 0.6304\n",
      "Emotion: nervousness, Precision: 0.4667, Recall: 0.0598, F1-measure: 0.1061\n",
      "Emotion: optimism, Precision: 0.3901, Recall: 0.3085, F1-measure: 0.3445\n",
      "Emotion: pride, Precision: 0.0000, Recall: 0.0000, F1-measure: 0.0000\n",
      "Emotion: realization, Precision: 0.1716, Recall: 0.0478, F1-measure: 0.0748\n",
      "Emotion: relief, Precision: 0.0000, Recall: 0.0000, F1-measure: 0.0000\n",
      "Emotion: remorse, Precision: 0.4313, Recall: 0.4631, F1-measure: 0.4466\n",
      "Emotion: sadness, Precision: 0.4153, Recall: 0.3801, F1-measure: 0.3970\n"
     ]
    },
    {
     "name": "stderr",
     "output_type": "stream",
     "text": [
      "/home/ood.discovery.neu.edu/software/anaconda3/2019.10/lib/python3.7/site-packages/sklearn/metrics/classification.py:1437: UndefinedMetricWarning: Precision is ill-defined and being set to 0.0 due to no predicted samples.\n",
      "  'precision', 'predicted', average, warn_for)\n",
      "/home/ood.discovery.neu.edu/software/anaconda3/2019.10/lib/python3.7/site-packages/sklearn/metrics/classification.py:1437: UndefinedMetricWarning: F-score is ill-defined and being set to 0.0 due to no predicted samples.\n",
      "  'precision', 'predicted', average, warn_for)\n"
     ]
    },
    {
     "name": "stdout",
     "output_type": "stream",
     "text": [
      "Emotion: surprise, Precision: 0.3587, Recall: 0.2938, F1-measure: 0.3230\n"
     ]
    },
    {
     "data": {
      "image/png": "[encoded data removed]",
      "text/plain": [
       "<Figure size 432x288 with 1 Axes>"
      ]
     },
     "metadata": {
      "needs_background": "light"
     },
     "output_type": "display_data"
    }
   ],
   "source": [
    "#Using this threshold of 0.2, we can determine the F1 score for each individual emotion:\n",
    "column_names = list(merged.columns[9:])\n",
    "threshold = 0.2\n",
    "f1_scores = []\n",
    "for i in range(0,27):\n",
    "    emotion_prediction = y_pred[:,i]\n",
    "    emotion_prediction[emotion_prediction>=threshold]=1\n",
    "    emotion_prediction[emotion_prediction<threshold]=0\n",
    "    emotion_test = y_test[:,i]\n",
    "    precision = precision_score(emotion_test, emotion_prediction)\n",
    "    recall = recall_score(emotion_test, emotion_prediction)\n",
    "    f1 = f1_score(emotion_test, emotion_prediction)\n",
    "    print(\"Emotion: {}, Precision: {:.4f}, Recall: {:.4f}, F1-measure: {:.4f}\".format(column_names[i], precision, recall, f1))\n",
    "    f1_scores.append(f1)\n",
    "    \n",
    "\n",
    "import matplotlib.pyplot as plt\n",
    "fig = plt.figure()\n",
    "plt.bar(column_names[0:27],f1_scores)\n",
    "plt.xticks(rotation=90)\n",
    "plt.show()"
   ]
  },
  {
   "cell_type": "code",
   "execution_count": 27,
   "metadata": {},
   "outputs": [
    {
     "name": "stdout",
     "output_type": "stream",
     "text": [
      "Average F1-Score across Multi-Lbales: 0.3910436086304674\n"
     ]
    }
   ],
   "source": [
    "pred = y_pred.copy()\n",
    "pred[pred>=0.2] = 1\n",
    "pred[pred<0.2] =0\n",
    "print(\"Average F1-Score across Multi-Lbales: {}\".format(f1_score(y_test, pred, average='micro')))"
   ]
  }
 ],
 "metadata": {
  "kernelspec": {
   "display_name": "Python 3",
   "language": "python",
   "name": "python3"
  },
  "language_info": {
   "codemirror_mode": {
    "name": "ipython",
    "version": 3
   },
   "file_extension": ".py",
   "mimetype": "text/x-python",
   "name": "python",
   "nbconvert_exporter": "python",
   "pygments_lexer": "ipython3",
   "version": "3.7.4"
  }
 },
 "nbformat": 4,
 "nbformat_minor": 4
}
